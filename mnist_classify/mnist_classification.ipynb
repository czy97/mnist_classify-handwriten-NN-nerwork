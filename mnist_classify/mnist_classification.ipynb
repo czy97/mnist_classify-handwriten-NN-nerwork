{
 "cells": [
  {
   "cell_type": "code",
   "execution_count": 1,
   "metadata": {},
   "outputs": [],
   "source": [
    "import time\n",
    "import random\n",
    "import numpy as np\n",
    "import matplotlib.pyplot as plt\n",
    "from codes.classifiers.fc_net import *\n",
    "from codes.mnist_data import *\n",
    "from codes.solver import Solver"
   ]
  },
  {
   "cell_type": "code",
   "execution_count": 2,
   "metadata": {},
   "outputs": [],
   "source": [
    "train_data = fetch_traingset()\n",
    "test_data = fetch_testingset()"
   ]
  },
  {
   "cell_type": "code",
   "execution_count": 3,
   "metadata": {},
   "outputs": [],
   "source": [
    "#Split train data and valid data\n",
    "#Transfer data into numpy array format\n",
    "random_sequence = list(range(60000))\n",
    "random.shuffle(random_sequence)\n",
    "\n",
    "valid_num = 8000\n",
    "train_num = 60000 - valid_num\n",
    "\n",
    "Train_data = np.array(train_data['images'][0:train_num])\n",
    "Train_labels = np.array(train_data['labels'][0:train_num])\n",
    "Valid_data = np.array(train_data['images'][train_num:])\n",
    "Valid_labels = np.array(train_data['labels'][train_num:])\n",
    "Test_data = np.array(test_data['images'])\n",
    "Test_labels = np.array(test_data['labels'])"
   ]
  },
  {
   "cell_type": "code",
   "execution_count": 6,
   "metadata": {},
   "outputs": [
    {
     "name": "stdout",
     "output_type": "stream",
     "text": [
      "(Iteration 1 / 20800.0) loss: 2.3049591009758417\n",
      "(Iteration 1 / 20800.0)  val_acc: 0.2565\n",
      "(Epoch 0 / 10) train acc: 0.273; val_acc: 0.2565\n",
      "(Iteration 1001 / 20800.0) loss: 0.6415386797304626\n",
      "(Iteration 1001 / 20800.0)  val_acc: 0.954\n",
      "(Iteration 2001 / 20800.0) loss: 0.6200775428000117\n",
      "(Iteration 2001 / 20800.0)  val_acc: 0.964875\n",
      "(Epoch 1 / 10) train acc: 0.957; val_acc: 0.961125\n",
      "(Iteration 3001 / 20800.0) loss: 0.6236041253721786\n",
      "(Iteration 3001 / 20800.0)  val_acc: 0.965625\n",
      "(Iteration 4001 / 20800.0) loss: 0.2947940516441014\n",
      "(Iteration 4001 / 20800.0)  val_acc: 0.968875\n",
      "(Epoch 2 / 10) train acc: 0.969; val_acc: 0.970625\n",
      "(Iteration 5001 / 20800.0) loss: 0.18975661272944266\n",
      "(Iteration 5001 / 20800.0)  val_acc: 0.971\n",
      "(Iteration 6001 / 20800.0) loss: 0.539601761037828\n",
      "(Iteration 6001 / 20800.0)  val_acc: 0.974875\n",
      "(Epoch 3 / 10) train acc: 0.976; val_acc: 0.974875\n",
      "(Iteration 7001 / 20800.0) loss: 0.2103377759572752\n",
      "(Iteration 7001 / 20800.0)  val_acc: 0.973625\n",
      "(Iteration 8001 / 20800.0) loss: 0.09315702582824886\n",
      "(Iteration 8001 / 20800.0)  val_acc: 0.975625\n",
      "(Epoch 4 / 10) train acc: 0.979; val_acc: 0.9755\n",
      "(Iteration 9001 / 20800.0) loss: 0.23868307826380097\n",
      "(Iteration 9001 / 20800.0)  val_acc: 0.9765\n",
      "(Iteration 10001 / 20800.0) loss: 0.30418181995227317\n",
      "(Iteration 10001 / 20800.0)  val_acc: 0.977375\n",
      "(Epoch 5 / 10) train acc: 0.975; val_acc: 0.977375\n",
      "(Iteration 11001 / 20800.0) loss: 0.10845113073249595\n",
      "(Iteration 11001 / 20800.0)  val_acc: 0.976875\n",
      "(Iteration 12001 / 20800.0) loss: 0.23013944443143328\n",
      "(Iteration 12001 / 20800.0)  val_acc: 0.977625\n",
      "(Epoch 6 / 10) train acc: 0.984; val_acc: 0.97575\n",
      "(Iteration 13001 / 20800.0) loss: 0.15448311932327397\n",
      "(Iteration 13001 / 20800.0)  val_acc: 0.979125\n",
      "(Iteration 14001 / 20800.0) loss: 0.27053205790685764\n",
      "(Iteration 14001 / 20800.0)  val_acc: 0.979625\n",
      "(Epoch 7 / 10) train acc: 0.985; val_acc: 0.979875\n",
      "(Iteration 15001 / 20800.0) loss: 0.01279624551767465\n",
      "(Iteration 15001 / 20800.0)  val_acc: 0.978125\n",
      "(Iteration 16001 / 20800.0) loss: 0.05843071709842494\n",
      "(Iteration 16001 / 20800.0)  val_acc: 0.98\n",
      "(Epoch 8 / 10) train acc: 0.991; val_acc: 0.979625\n",
      "(Iteration 17001 / 20800.0) loss: 0.3579018453185696\n",
      "(Iteration 17001 / 20800.0)  val_acc: 0.980625\n",
      "(Iteration 18001 / 20800.0) loss: 0.2238454026655418\n",
      "(Iteration 18001 / 20800.0)  val_acc: 0.980625\n",
      "(Epoch 9 / 10) train acc: 0.983; val_acc: 0.9795\n",
      "(Iteration 19001 / 20800.0) loss: 0.05410355818683398\n",
      "(Iteration 19001 / 20800.0)  val_acc: 0.980875\n",
      "(Iteration 20001 / 20800.0) loss: 0.083374420983118\n",
      "(Iteration 20001 / 20800.0)  val_acc: 0.979125\n",
      "(Epoch 10 / 10) train acc: 0.987; val_acc: 0.979125\n"
     ]
    }
   ],
   "source": [
    "#The training process\n",
    "input_data = {\n",
    "  'X_train': Train_data,\n",
    "  'y_train': Train_labels,\n",
    "  'X_val': Valid_data,\n",
    "  'y_val': Valid_labels,\n",
    "}\n",
    "#Model defination\n",
    "weight_scale = 0.01 \n",
    "model = FullyConnectedNet([1024, 512,256,64],input_dim = 784,dropout=0.5, use_batchnorm=True,\n",
    "              weight_scale=weight_scale, dtype=np.float64)\n",
    "#Solver defination\n",
    "learning_rate = 8e-4 \n",
    "solver = Solver(model, input_data,\n",
    "                print_every=1000, num_epochs=10, batch_size=25,\n",
    "                update_rule='adam',\n",
    "                optim_config={\n",
    "                  'learning_rate': learning_rate,\n",
    "                }\n",
    "         )\n",
    "#Call the train function to update the model's params\n",
    "solver.train()"
   ]
  },
  {
   "cell_type": "code",
   "execution_count": 5,
   "metadata": {},
   "outputs": [
    {
     "name": "stdout",
     "output_type": "stream",
     "text": [
      "Validation set accuracy: 0.983\n",
      "Test set accuracy: 0.9844\n"
     ]
    }
   ],
   "source": [
    "weight_scale = 0.01 \n",
    "model = FullyConnectedNet([1024, 512,256],input_dim = 784,dropout=0.5, use_batchnorm=True,\n",
    "              weight_scale=weight_scale, dtype=np.float64)\n",
    "model.loadModel()\n",
    "print('Validation set accuracy: {}'.format(model.getAcc(Valid_data,Valid_labels)))\n",
    "print('Test set accuracy: {}'.format(model.getAcc(Test_data,Test_labels)))"
   ]
  },
  {
   "cell_type": "code",
   "execution_count": 7,
   "metadata": {},
   "outputs": [
    {
     "name": "stdout",
     "output_type": "stream",
     "text": [
      "Validation set accuracy: 0.979625\n",
      "Test set accuracy: 0.9809\n"
     ]
    }
   ],
   "source": [
    "print('Validation set accuracy: {}'.format(model.getAcc(Valid_data,Valid_labels)))\n",
    "print('Test set accuracy: {}'.format(model.getAcc(Test_data,Test_labels)))"
   ]
  }
 ],
 "metadata": {
  "kernelspec": {
   "display_name": "Python 3",
   "language": "python",
   "name": "python3"
  },
  "language_info": {
   "codemirror_mode": {
    "name": "ipython",
    "version": 3
   },
   "file_extension": ".py",
   "mimetype": "text/x-python",
   "name": "python",
   "nbconvert_exporter": "python",
   "pygments_lexer": "ipython3",
   "version": "3.6.4"
  }
 },
 "nbformat": 4,
 "nbformat_minor": 2
}
